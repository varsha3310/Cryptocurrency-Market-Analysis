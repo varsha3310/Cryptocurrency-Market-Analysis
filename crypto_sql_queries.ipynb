{
 "cells": [
  {
   "cell_type": "code",
   "execution_count": null,
   "id": "6fb33820",
   "metadata": {},
   "outputs": [],
   "source": [
    "import pymysql\n",
    "import pandas as pd\n",
    "\n",
    "# MySQL Connection (Update credentials as needed)\n",
    "connection = pymysql.connect(\n",
    "    host=\"localhost\",\n",
    "    user=\"root\",\n",
    "    password=\"your_password\",\n",
    "    database=\"crypto_db\"\n",
    ")\n"
   ]
  },
  {
   "cell_type": "markdown",
   "id": "f6e4765c",
   "metadata": {},
   "source": [
    "### Q1: Top 10 Coins by Market Cap (2017)"
   ]
  },
  {
   "cell_type": "code",
   "execution_count": null,
   "id": "2861707c",
   "metadata": {},
   "outputs": [],
   "source": [
    "pd.read_sql(\"\"\"\n",
    "SELECT name, market_cap_usd\n",
    "FROM cmc2017\n",
    "ORDER BY market_cap_usd DESC\n",
    "LIMIT 10;\n",
    "\"\"\", connection)"
   ]
  },
  {
   "cell_type": "markdown",
   "id": "cb043fec",
   "metadata": {},
   "source": [
    "### Q2: Top 10 Coins by Market Cap (2018)"
   ]
  },
  {
   "cell_type": "code",
   "execution_count": null,
   "id": "00dfa9a3",
   "metadata": {},
   "outputs": [],
   "source": [
    "pd.read_sql(\"\"\"\n",
    "SELECT name, market_cap_usd\n",
    "FROM cmc2018\n",
    "ORDER BY market_cap_usd DESC\n",
    "LIMIT 10;\n",
    "\"\"\", connection)"
   ]
  },
  {
   "cell_type": "markdown",
   "id": "2fff995c",
   "metadata": {},
   "source": [
    "### Q3: Coins with Over 50% Weekly Growth (2018)"
   ]
  },
  {
   "cell_type": "code",
   "execution_count": null,
   "id": "b961a27f",
   "metadata": {},
   "outputs": [],
   "source": [
    "pd.read_sql(\"\"\"\n",
    "SELECT name, percent_change_7d\n",
    "FROM cmc2018\n",
    "WHERE percent_change_7d > 50\n",
    "ORDER BY percent_change_7d DESC;\n",
    "\"\"\", connection)"
   ]
  },
  {
   "cell_type": "markdown",
   "id": "5aa4402d",
   "metadata": {},
   "source": [
    "### Q4: Count of Coins Missing Market Cap (2017)"
   ]
  },
  {
   "cell_type": "code",
   "execution_count": null,
   "id": "a8c99ea8",
   "metadata": {},
   "outputs": [],
   "source": [
    "pd.read_sql(\"\"\"\n",
    "SELECT COUNT(*) AS null_market_cap\n",
    "FROM cmc2017\n",
    "WHERE market_cap_usd IS NULL;\n",
    "\"\"\", connection)"
   ]
  },
  {
   "cell_type": "markdown",
   "id": "69f5053a",
   "metadata": {},
   "source": [
    "### Q5: Market Cap Share of Top 10 vs Rest (2018)"
   ]
  },
  {
   "cell_type": "code",
   "execution_count": null,
   "id": "3788cbad",
   "metadata": {},
   "outputs": [],
   "source": [
    "pd.read_sql(\"\"\"\n",
    "SELECT \n",
    " ROUND(SUM(CASE WHEN rank <= 10 THEN market_cap_usd ELSE 0 END) * 100.0 / SUM(market_cap_usd), 2) AS top10_pct,\n",
    " ROUND(SUM(CASE WHEN rank > 10 THEN market_cap_usd ELSE 0 END) * 100.0 / SUM(market_cap_usd), 2) AS rest_pct\n",
    "FROM cmc2018;\n",
    "\"\"\", connection)"
   ]
  },
  {
   "cell_type": "markdown",
   "id": "59f11614",
   "metadata": {},
   "source": [
    "### Q6: Rank Coins by 24h Volume (2018)"
   ]
  },
  {
   "cell_type": "code",
   "execution_count": null,
   "id": "85850724",
   "metadata": {},
   "outputs": [],
   "source": [
    "pd.read_sql(\"\"\"\n",
    "SELECT name, `24h_volume_usd`,\n",
    "       RANK() OVER (ORDER BY `24h_volume_usd` DESC) AS vol_rank\n",
    "FROM cmc2018;\n",
    "\"\"\", connection)"
   ]
  },
  {
   "cell_type": "markdown",
   "id": "7ca00447",
   "metadata": {},
   "source": [
    "### Q7: Total Market Cap by Symbol (2018)"
   ]
  },
  {
   "cell_type": "code",
   "execution_count": null,
   "id": "63256c5e",
   "metadata": {},
   "outputs": [],
   "source": [
    "pd.read_sql(\"\"\"\n",
    "SELECT symbol, SUM(market_cap_usd) AS total_market_cap\n",
    "FROM cmc2018\n",
    "GROUP BY symbol\n",
    "ORDER BY total_market_cap DESC;\n",
    "\"\"\", connection)"
   ]
  },
  {
   "cell_type": "markdown",
   "id": "29dc896b",
   "metadata": {},
   "source": [
    "### Q8: Biggest Gainers (24h) – 2018"
   ]
  },
  {
   "cell_type": "code",
   "execution_count": null,
   "id": "18c09d90",
   "metadata": {},
   "outputs": [],
   "source": [
    "pd.read_sql(\"\"\"\n",
    "SELECT name, percent_change_24h\n",
    "FROM cmc2018\n",
    "ORDER BY percent_change_24h DESC\n",
    "LIMIT 10;\n",
    "\"\"\", connection)"
   ]
  },
  {
   "cell_type": "markdown",
   "id": "de5e9df9",
   "metadata": {},
   "source": [
    "### Q9: Biggest Losers (7d) – 2018"
   ]
  },
  {
   "cell_type": "code",
   "execution_count": null,
   "id": "c0828642",
   "metadata": {},
   "outputs": [],
   "source": [
    "pd.read_sql(\"\"\"\n",
    "SELECT name, percent_change_7d\n",
    "FROM cmc2018\n",
    "ORDER BY percent_change_7d ASC\n",
    "LIMIT 10;\n",
    "\"\"\", connection)"
   ]
  },
  {
   "cell_type": "markdown",
   "id": "6c6f6a00",
   "metadata": {},
   "source": [
    "### Q10: Year-over-Year Market Cap Growth"
   ]
  },
  {
   "cell_type": "code",
   "execution_count": null,
   "id": "d7d2b862",
   "metadata": {},
   "outputs": [],
   "source": [
    "pd.read_sql(\"\"\"\n",
    "SELECT c17.name,\n",
    "       ROUND((c18.market_cap_usd - c17.market_cap_usd) / c17.market_cap_usd * 100, 2) AS pct_growth\n",
    "FROM cmc2017 c17\n",
    "JOIN cmc2018 c18 ON LOWER(c17.id) = LOWER(c18.id)\n",
    "WHERE c17.market_cap_usd IS NOT NULL\n",
    "  AND c18.market_cap_usd IS NOT NULL\n",
    "ORDER BY pct_growth DESC\n",
    "LIMIT 10;\n",
    "\"\"\", connection)"
   ]
  },
  {
   "cell_type": "markdown",
   "id": "af62c05e",
   "metadata": {},
   "source": [
    "### Q11: Largest YoY Increase in 24h Volume"
   ]
  },
  {
   "cell_type": "code",
   "execution_count": null,
   "id": "972eb764",
   "metadata": {},
   "outputs": [],
   "source": [
    "pd.read_sql(\"\"\"\n",
    "SELECT c17.name,\n",
    "       ROUND((c18.`24h_volume_usd` - c17.`24h_volume_usd`) / c17.`24h_volume_usd` * 100, 2) AS pct_increase\n",
    "FROM cmc2017 c17\n",
    "JOIN cmc2018 c18 ON LOWER(c17.id) = LOWER(c18.id)\n",
    "WHERE c17.`24h_volume_usd` IS NOT NULL\n",
    "  AND c18.`24h_volume_usd` IS NOT NULL\n",
    "ORDER BY pct_increase DESC\n",
    "LIMIT 5;\n",
    "\"\"\", connection)"
   ]
  },
  {
   "cell_type": "markdown",
   "id": "e25bf5b3",
   "metadata": {},
   "source": [
    "### Q12: Coins Entered Top 20 in 2018"
   ]
  },
  {
   "cell_type": "code",
   "execution_count": null,
   "id": "d11d8429",
   "metadata": {},
   "outputs": [],
   "source": [
    "pd.read_sql(\"\"\"\n",
    "SELECT id, name\n",
    "FROM cmc2018\n",
    "WHERE id NOT IN (\n",
    "    SELECT id FROM cmc2017\n",
    "    ORDER BY market_cap_usd DESC LIMIT 20\n",
    ")\n",
    "ORDER BY market_cap_usd DESC\n",
    "LIMIT 20;\n",
    "\"\"\", connection)"
   ]
  },
  {
   "cell_type": "markdown",
   "id": "598cb30a",
   "metadata": {},
   "source": [
    "### Q12b: Coins Dropped from Top 20 in 2018"
   ]
  },
  {
   "cell_type": "code",
   "execution_count": null,
   "id": "f735221d",
   "metadata": {},
   "outputs": [],
   "source": [
    "pd.read_sql(\"\"\"\n",
    "SELECT id, name\n",
    "FROM cmc2017\n",
    "WHERE id NOT IN (\n",
    "    SELECT id FROM cmc2018\n",
    "    ORDER BY market_cap_usd DESC LIMIT 20\n",
    ")\n",
    "ORDER BY market_cap_usd DESC\n",
    "LIMIT 20;\n",
    "\"\"\", connection)"
   ]
  },
  {
   "cell_type": "markdown",
   "id": "2629720a",
   "metadata": {},
   "source": [
    "### Q13: Moving Average of 7-Day Returns (2018)"
   ]
  },
  {
   "cell_type": "code",
   "execution_count": null,
   "id": "39092f8f",
   "metadata": {},
   "outputs": [],
   "source": [
    "pd.read_sql(\"\"\"\n",
    "SELECT name, percent_change_7d,\n",
    "       ROUND(AVG(percent_change_7d) OVER (\n",
    "             ORDER BY percent_change_7d\n",
    "             ROWS BETWEEN 4 PRECEDING AND CURRENT ROW\n",
    "       ), 2) AS moving_avg_5\n",
    "FROM cmc2018\n",
    "ORDER BY percent_change_7d DESC;\n",
    "\"\"\", connection)"
   ]
  },
  {
   "cell_type": "markdown",
   "id": "dba35d8d",
   "metadata": {},
   "source": [
    "### Q14: Median 7-Day Return by Year"
   ]
  },
  {
   "cell_type": "code",
   "execution_count": null,
   "id": "9a718bf8",
   "metadata": {},
   "outputs": [],
   "source": [
    "pd.read_sql(\"\"\"\n",
    "SELECT year,\n",
    "       PERCENTILE_CONT(0.5) WITHIN GROUP (ORDER BY percent_change_7d) AS median_7d_return\n",
    "FROM (\n",
    "    SELECT percent_change_7d, 2017 AS year FROM cmc2017\n",
    "    UNION ALL\n",
    "    SELECT percent_change_7d, 2018 AS year FROM cmc2018\n",
    ") combined\n",
    "GROUP BY year;\n",
    "\"\"\", connection)"
   ]
  },
  {
   "cell_type": "markdown",
   "id": "f805d92e",
   "metadata": {},
   "source": [
    "### Q15: Top 5 Coins by Volatility (24h % Change)"
   ]
  },
  {
   "cell_type": "code",
   "execution_count": null,
   "id": "b02130e7",
   "metadata": {},
   "outputs": [],
   "source": [
    "pd.read_sql(\"\"\"\n",
    "SELECT name,\n",
    "       symbol,\n",
    "       ROUND(STDDEV_SAMP(percent_change_24h), 2) AS stddev_24h\n",
    "FROM cmc2018\n",
    "WHERE percent_change_24h IS NOT NULL\n",
    "GROUP BY name, symbol\n",
    "ORDER BY stddev_24h DESC\n",
    "LIMIT 5;\n",
    "\"\"\", connection)"
   ]
  },
  {
   "cell_type": "markdown",
   "id": "b860bf1d",
   "metadata": {},
   "source": [
    "### Q16: Correlation between Market Cap and Volume by Cap Category"
   ]
  },
  {
   "cell_type": "code",
   "execution_count": null,
   "id": "dfd3db63",
   "metadata": {},
   "outputs": [],
   "source": [
    "pd.read_sql(\"\"\"\n",
    "WITH categorized AS (\n",
    "    SELECT *,\n",
    "           CASE\n",
    "               WHEN market_cap_usd >= 10000000000 THEN 'Large Cap'\n",
    "               WHEN market_cap_usd >= 1000000000  THEN 'Mid Cap'\n",
    "               ELSE 'Small Cap'\n",
    "           END AS cap_category\n",
    "    FROM cmc2018\n",
    ")\n",
    "SELECT cap_category,\n",
    "       ROUND(\n",
    "         (SUM((market_cap_usd - (SELECT AVG(market_cap_usd) FROM categorized WHERE cap_category = c.cap_category)) *\n",
    "              (`24h_volume_usd` - (SELECT AVG(`24h_volume_usd`) FROM categorized WHERE cap_category = c.cap_category))) /\n",
    "          ((COUNT(*) - 1) * (STDDEV_SAMP(market_cap_usd) * STDDEV_SAMP(`24h_volume_usd`)))\n",
    "       , 3) AS correlation\n",
    "FROM categorized c\n",
    "GROUP BY cap_category;\n",
    "\"\"\", connection)"
   ]
  },
  {
   "cell_type": "markdown",
   "id": "9bdc688e",
   "metadata": {},
   "source": [
    "### Q17: Ranking Coins by Average Weekly Return (2018)"
   ]
  },
  {
   "cell_type": "code",
   "execution_count": null,
   "id": "ba7c925a",
   "metadata": {},
   "outputs": [],
   "source": [
    "pd.read_sql(\"\"\"\n",
    "SELECT name,\n",
    "       ROUND(AVG(percent_change_7d), 2) AS avg_weekly_return,\n",
    "       RANK() OVER (ORDER BY AVG(percent_change_7d) DESC) AS rank_by_return\n",
    "FROM cmc2018\n",
    "WHERE percent_change_7d IS NOT NULL\n",
    "GROUP BY name\n",
    "ORDER BY avg_weekly_return DESC\n",
    "LIMIT 10;\n",
    "\"\"\", connection)"
   ]
  },
  {
   "cell_type": "markdown",
   "id": "bb93ccaa",
   "metadata": {},
   "source": [
    "### Q18: Clusters of Coins with Similar Weekly Returns"
   ]
  },
  {
   "cell_type": "code",
   "execution_count": null,
   "id": "7ec5dee9",
   "metadata": {},
   "outputs": [],
   "source": [
    "pd.read_sql(\"\"\"\n",
    "SELECT a.name AS coin_a,\n",
    "       b.name AS coin_b,\n",
    "       ABS(a.percent_change_7d - b.percent_change_7d) AS diff_pct\n",
    "FROM cmc2018 a\n",
    "JOIN cmc2018 b ON a.name < b.name\n",
    "WHERE a.percent_change_7d IS NOT NULL\n",
    "  AND b.percent_change_7d IS NOT NULL\n",
    "  AND ABS(a.percent_change_7d - b.percent_change_7d) <= 10\n",
    "ORDER BY diff_pct ASC\n",
    "LIMIT 20;\n",
    "\"\"\", connection)"
   ]
  },
  {
   "cell_type": "markdown",
   "id": "9bf75bc8",
   "metadata": {},
   "source": [
    "### Q19: Rolling 7-Day Trading Volume"
   ]
  },
  {
   "cell_type": "code",
   "execution_count": null,
   "id": "9d74ae2e",
   "metadata": {},
   "outputs": [],
   "source": [
    "pd.read_sql(\"\"\"\n",
    "WITH top10 AS (\n",
    "    SELECT symbol\n",
    "    FROM cmc2018\n",
    "    ORDER BY market_cap_usd DESC\n",
    "    LIMIT 10\n",
    "),\n",
    "rolling AS (\n",
    "    SELECT t.symbol,\n",
    "           t.date,\n",
    "           SUM(t.`24h_volume_usd`) OVER (\n",
    "             PARTITION BY t.symbol\n",
    "             ORDER BY t.date\n",
    "             ROWS BETWEEN 6 PRECEDING AND CURRENT ROW\n",
    "           ) AS rolling_7d_volume\n",
    "    FROM daily_crypto_data t\n",
    "    JOIN top10 ON t.symbol = top10.symbol\n",
    ")\n",
    "SELECT *\n",
    "FROM rolling\n",
    "ORDER BY symbol, date;\n",
    "\"\"\", connection)"
   ]
  }
 ],
 "metadata": {},
 "nbformat": 4,
 "nbformat_minor": 5
}
